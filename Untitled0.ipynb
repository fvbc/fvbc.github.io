{
  "nbformat": 4,
  "nbformat_minor": 0,
  "metadata": {
    "colab": {
      "provenance": [],
      "toc_visible": true,
      "authorship_tag": "ABX9TyOwI+ASdwr4YNnBI6jMiRN4",
      "include_colab_link": true
    },
    "kernelspec": {
      "name": "python3",
      "display_name": "Python 3"
    },
    "language_info": {
      "name": "python"
    }
  },
  "cells": [
    {
      "cell_type": "markdown",
      "metadata": {
        "id": "view-in-github",
        "colab_type": "text"
      },
      "source": [
        "<a href=\"https://colab.research.google.com/github/fvbc/fvbc.github.io/blob/main/Untitled0.ipynb\" target=\"_parent\"><img src=\"https://colab.research.google.com/assets/colab-badge.svg\" alt=\"Open In Colab\"/></a>"
      ]
    },
    {
      "cell_type": "code",
      "execution_count": 3,
      "metadata": {
        "colab": {
          "base_uri": "https://localhost:8080/"
        },
        "id": "7YFeHHevyZGJ",
        "outputId": "87ec4d8a-25f6-4b96-8c26-0f2de2c75412"
      },
      "outputs": [
        {
          "output_type": "stream",
          "name": "stdout",
          "text": [
            "\r[*********************100%%**********************]  1 of 1 completed\n",
            "9501.T_historical_data.csv にデータを保存しました。\n"
          ]
        }
      ],
      "source": [
        "# 必要なライブラリをインポート\n",
        "import pandas as pd\n",
        "import yfinance as yf\n",
        "from datetime import datetime, timedelta\n",
        "\n",
        "# 銘柄シンボルを指定（東京電力ホールディングスの場合）\n",
        "stock_symbol = \"9501.T\"  # TSEに上場する銘柄の場合、末尾に \".T\" を追加\n",
        "\n",
        "# 直近半年間のデータを取得\n",
        "end_date = datetime.now()\n",
        "start_date = end_date - timedelta(days=180)  # 直近半年間のデータを取得するために日数を設定\n",
        "\n",
        "# Yahoo Financeからデータを取得\n",
        "stock_data = yf.download(stock_symbol, start=start_date, end=end_date)\n",
        "\n",
        "# ファイル名に銘柄コードを含めて生成\n",
        "file_name = f\"{stock_symbol}_historical_data.csv\"\n",
        "\n",
        "# CSVファイルにデータを保存\n",
        "stock_data.to_csv(file_name)\n",
        "\n",
        "print(f\"{file_name} にデータを保存しました。\")\n"
      ]
    },
    {
      "cell_type": "code",
      "source": [
        "from google.colab import drive\n",
        "drive.mount('/content/drive')"
      ],
      "metadata": {
        "id": "efL04YKB5YAI"
      },
      "execution_count": null,
      "outputs": []
    }
  ]
}